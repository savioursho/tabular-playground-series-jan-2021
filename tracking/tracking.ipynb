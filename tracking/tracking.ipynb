{
 "cells": [
  {
   "cell_type": "code",
   "execution_count": 1,
   "metadata": {},
   "outputs": [],
   "source": [
    "import pandas as pd"
   ]
  },
  {
   "cell_type": "code",
   "execution_count": 4,
   "metadata": {},
   "outputs": [],
   "source": [
    "df_tracking = pd.read_csv(\"./tracking.csv\", index_col=0)"
   ]
  },
  {
   "cell_type": "code",
   "execution_count": 5,
   "metadata": {},
   "outputs": [
    {
     "data": {
      "text/html": [
       "<div>\n",
       "<style scoped>\n",
       "    .dataframe tbody tr th:only-of-type {\n",
       "        vertical-align: middle;\n",
       "    }\n",
       "\n",
       "    .dataframe tbody tr th {\n",
       "        vertical-align: top;\n",
       "    }\n",
       "\n",
       "    .dataframe thead th {\n",
       "        text-align: right;\n",
       "    }\n",
       "</style>\n",
       "<table border=\"1\" class=\"dataframe\">\n",
       "  <thead>\n",
       "    <tr style=\"text-align: right;\">\n",
       "      <th></th>\n",
       "      <th>oof_score</th>\n",
       "    </tr>\n",
       "  </thead>\n",
       "  <tbody>\n",
       "    <tr>\n",
       "      <th>0122_1142_42-e001</th>\n",
       "      <td>0.701099</td>\n",
       "    </tr>\n",
       "    <tr>\n",
       "      <th>0122_1148_34-e001</th>\n",
       "      <td>0.700757</td>\n",
       "    </tr>\n",
       "    <tr>\n",
       "      <th>0122_1150_20-e001</th>\n",
       "      <td>0.700150</td>\n",
       "    </tr>\n",
       "    <tr>\n",
       "      <th>test</th>\n",
       "      <td>0.785397</td>\n",
       "    </tr>\n",
       "    <tr>\n",
       "      <th>0122_1216_01-e001</th>\n",
       "      <td>0.700150</td>\n",
       "    </tr>\n",
       "    <tr>\n",
       "      <th>test-0122_1244_43-e001</th>\n",
       "      <td>0.713163</td>\n",
       "    </tr>\n",
       "    <tr>\n",
       "      <th>0122_1251_12-e002</th>\n",
       "      <td>0.715477</td>\n",
       "    </tr>\n",
       "    <tr>\n",
       "      <th>0122_1309_26-e002</th>\n",
       "      <td>0.714938</td>\n",
       "    </tr>\n",
       "  </tbody>\n",
       "</table>\n",
       "</div>"
      ],
      "text/plain": [
       "                        oof_score\n",
       "0122_1142_42-e001        0.701099\n",
       "0122_1148_34-e001        0.700757\n",
       "0122_1150_20-e001        0.700150\n",
       "test                     0.785397\n",
       "0122_1216_01-e001        0.700150\n",
       "test-0122_1244_43-e001   0.713163\n",
       "0122_1251_12-e002        0.715477\n",
       "0122_1309_26-e002        0.714938"
      ]
     },
     "execution_count": 5,
     "metadata": {},
     "output_type": "execute_result"
    }
   ],
   "source": [
    "df_tracking"
   ]
  },
  {
   "cell_type": "code",
   "execution_count": null,
   "metadata": {},
   "outputs": [],
   "source": []
  }
 ],
 "metadata": {
  "kernelspec": {
   "display_name": "base",
   "language": "python",
   "name": "python3"
  },
  "language_info": {
   "codemirror_mode": {
    "name": "ipython",
    "version": 3
   },
   "file_extension": ".py",
   "mimetype": "text/x-python",
   "name": "python",
   "nbconvert_exporter": "python",
   "pygments_lexer": "ipython3",
   "version": "3.7.12"
  },
  "orig_nbformat": 4,
  "vscode": {
   "interpreter": {
    "hash": "d4d1e4263499bec80672ea0156c357c1ee493ec2b1c70f0acce89fc37c4a6abe"
   }
  }
 },
 "nbformat": 4,
 "nbformat_minor": 2
}
