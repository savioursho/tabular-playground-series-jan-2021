{
 "cells": [
  {
   "cell_type": "markdown",
   "metadata": {},
   "source": [
    "## Simple benchmark using LGB\n",
    "\n",
    "Benchamrk with LGB"
   ]
  },
  {
   "cell_type": "code",
   "execution_count": 1,
   "metadata": {},
   "outputs": [],
   "source": [
    "import os\n",
    "import sys\n",
    "from datetime import datetime"
   ]
  },
  {
   "cell_type": "code",
   "execution_count": 2,
   "metadata": {},
   "outputs": [],
   "source": [
    "sys.path.insert(0, os.path.abspath('/opt/vssexclude/personal/kaggle/kaggle_tab_aug'))"
   ]
  },
  {
   "cell_type": "code",
   "execution_count": 3,
   "metadata": {},
   "outputs": [],
   "source": [
    "%load_ext autoreload\n",
    "%autoreload 2\n",
    "%config Completer.use_jedi = False"
   ]
  },
  {
   "cell_type": "code",
   "execution_count": 4,
   "metadata": {},
   "outputs": [],
   "source": [
    "import pandas as pd\n",
    "from sklearn.model_selection import KFold\n",
    "from sklearn.preprocessing import LabelEncoder\n",
    "from sklearn.model_selection import TimeSeriesSplit\n",
    "\n",
    "import src.common as common\n",
    "import src.munging as process_data\n",
    "import src.config.constants as constants\n",
    "import src.cv as cv\n",
    "import src.modeling as model"
   ]
  },
  {
   "cell_type": "code",
   "execution_count": 5,
   "metadata": {},
   "outputs": [
    {
     "name": "stdout",
     "output_type": "stream",
     "text": [
      "[INFO]2021-07-20 12:39:01,822:sub_1:Reading Data from /opt/vssexclude/personal/kaggle/kaggle_tab_jul/data/processed...\n",
      "[INFO]2021-07-20 12:39:01,867:sub_1:Shape of train_df : (7111, 12)\n",
      "[INFO]2021-07-20 12:39:01,872:sub_1:Shape of test_df : (2247, 9)\n",
      "[INFO]2021-07-20 12:39:01,875:sub_1:Shape of sample_submission_df : (2247, 4)\n"
     ]
    }
   ],
   "source": [
    "logger = common.get_logger('sub_1')\n",
    "RUN_ID = datetime.now().strftime(\"%m%d_%H%M\")\n",
    "MODEL_NAME = \"lgb_benhmark\"\n",
    "SEED = 42\n",
    "\n",
    "train_df, test_df, sample_submission_df = process_data.read_processed_data(logger, \n",
    "                                                                           constants.PROCESSED_DATA_DIR, \n",
    "                                                                           train=True, \n",
    "                                                                           test=True, \n",
    "                                                                           sample_submission=True)"
   ]
  },
  {
   "cell_type": "code",
   "execution_count": 6,
   "metadata": {},
   "outputs": [
    {
     "data": {
      "text/plain": [
       "((7111, 12), (2247, 9), (2247, 4))"
      ]
     },
     "execution_count": 6,
     "metadata": {},
     "output_type": "execute_result"
    }
   ],
   "source": [
    "train_df.shape, test_df.shape, sample_submission_df.shape"
   ]
  },
  {
   "cell_type": "code",
   "execution_count": 7,
   "metadata": {},
   "outputs": [],
   "source": [
    "targets = ['target_carbon_monoxide', 'target_benzene', 'target_nitrogen_oxides']\n",
    "date = [\"date_time\"]\n",
    "\n",
    "train_X = train_df.drop(date + targets, axis=1)\n",
    "train_Ys = train_df[targets]\n",
    "test_X = test_df.drop(date, axis=1)"
   ]
  },
  {
   "cell_type": "code",
   "execution_count": 8,
   "metadata": {},
   "outputs": [
    {
     "name": "stdout",
     "output_type": "stream",
     "text": [
      "(7111, 8) (7111, 3) (2247, 8)\n"
     ]
    }
   ],
   "source": [
    "print(train_X.shape, train_Ys.shape, test_X.shape)"
   ]
  },
  {
   "cell_type": "code",
   "execution_count": 9,
   "metadata": {},
   "outputs": [
    {
     "data": {
      "text/plain": [
       "['deg_C',\n",
       " 'relative_humidity',\n",
       " 'absolute_humidity',\n",
       " 'sensor_1',\n",
       " 'sensor_2',\n",
       " 'sensor_3',\n",
       " 'sensor_4',\n",
       " 'sensor_5']"
      ]
     },
     "execution_count": 9,
     "metadata": {},
     "output_type": "execute_result"
    }
   ],
   "source": [
    "predictors = list(train_X.columns)\n",
    "predictors"
   ]
  },
  {
   "cell_type": "code",
   "execution_count": 13,
   "metadata": {},
   "outputs": [
    {
     "name": "stdout",
     "output_type": "stream",
     "text": [
      "[INFO]2021-07-20 12:41:11,460:sub_1:fold 1 of 5\n",
      "Training until validation scores don't improve for 100 rounds\n",
      "[100]\ttraining's rmse: 2.5\tvalid_1's rmse: 3.14488\n",
      "Early stopping, best iteration is:\n",
      "[1]\ttraining's rmse: 2.5\tvalid_1's rmse: 3.14488\n",
      "[INFO]2021-07-20 12:41:12,845:sub_1:Best number of iterations for fold 1 is: 1\n",
      "[INFO]2021-07-20 12:41:12,846:sub_1:CV OOF Score for fold 1 is 0.44566163848260404\n",
      "[INFO]2021-07-20 12:41:12,905:sub_1:fold 2 of 5\n",
      "Training until validation scores don't improve for 100 rounds\n",
      "[100]\ttraining's rmse: 0.171058\tvalid_1's rmse: 0.399488\n",
      "Early stopping, best iteration is:\n",
      "[76]\ttraining's rmse: 0.189791\tvalid_1's rmse: 0.396887\n",
      "[INFO]2021-07-20 12:41:13,633:sub_1:Best number of iterations for fold 2 is: 76\n",
      "[INFO]2021-07-20 12:41:13,634:sub_1:CV OOF Score for fold 2 is 0.1437274105986489\n",
      "[INFO]2021-07-20 12:41:13,697:sub_1:fold 3 of 5\n",
      "Training until validation scores don't improve for 100 rounds\n",
      "[100]\ttraining's rmse: 0.20758\tvalid_1's rmse: 0.331476\n",
      "Early stopping, best iteration is:\n",
      "[32]\ttraining's rmse: 0.28248\tvalid_1's rmse: 0.325829\n",
      "[INFO]2021-07-20 12:41:13,872:sub_1:Best number of iterations for fold 3 is: 32\n",
      "[INFO]2021-07-20 12:41:13,873:sub_1:CV OOF Score for fold 3 is 0.12472117804256763\n",
      "[INFO]2021-07-20 12:41:13,925:sub_1:fold 4 of 5\n",
      "Training until validation scores don't improve for 100 rounds\n",
      "[100]\ttraining's rmse: 0.221605\tvalid_1's rmse: 0.428054\n",
      "Early stopping, best iteration is:\n",
      "[51]\ttraining's rmse: 0.257863\tvalid_1's rmse: 0.422032\n",
      "[INFO]2021-07-20 12:41:14,113:sub_1:Best number of iterations for fold 4 is: 51\n",
      "[INFO]2021-07-20 12:41:14,114:sub_1:CV OOF Score for fold 4 is 0.10689888447149183\n",
      "[INFO]2021-07-20 12:41:14,169:sub_1:fold 5 of 5\n",
      "Training until validation scores don't improve for 100 rounds\n",
      "[100]\ttraining's rmse: 0.24252\tvalid_1's rmse: 1.01235\n",
      "[200]\ttraining's rmse: 0.200458\tvalid_1's rmse: 1.00981\n",
      "Early stopping, best iteration is:\n",
      "[195]\ttraining's rmse: 0.202123\tvalid_1's rmse: 1.00843\n",
      "[INFO]2021-07-20 12:41:14,438:sub_1:Best number of iterations for fold 5 is: 195\n",
      "[INFO]2021-07-20 12:41:14,439:sub_1:CV OOF Score for fold 5 is 0.24640076739725403\n",
      "[INFO]2021-07-20 12:41:14,495:sub_1:Combined OOF score : 0.2482\n",
      "[INFO]2021-07-20 12:41:14,495:sub_1:Average of 5 folds OOF score 0.21348\n",
      "[INFO]2021-07-20 12:41:14,496:sub_1:std of 5 folds OOF score 0.12577\n",
      "[INFO]2021-07-20 12:41:14,567:sub_1:Training/Prediction completed!\n",
      "[INFO]2021-07-20 12:41:14,568:sub_1:Saving /opt/vssexclude/personal/kaggle/kaggle_tab_jul/oof/oof_co_lgb_ben_0720_1239_0.21348.csv\n",
      "[INFO]2021-07-20 12:41:14,581:sub_1:Saving /opt/vssexclude/personal/kaggle/kaggle_tab_jul/fi/fi_co_lgb_ben_0720_1239_0.21348.csv\n",
      "[INFO]2021-07-20 12:41:14,583:sub_1:Saving /opt/vssexclude/personal/kaggle/kaggle_tab_jul/fi/bf_co_lgb_ben_0720_1239_0.21348.csv\n",
      "[INFO]2021-07-20 12:41:14,704:sub_1:fold 1 of 5\n",
      "Training until validation scores don't improve for 100 rounds\n",
      "[100]\ttraining's rmse: 12\tvalid_1's rmse: 15.8936\n",
      "Early stopping, best iteration is:\n",
      "[1]\ttraining's rmse: 12\tvalid_1's rmse: 15.8936\n",
      "[INFO]2021-07-20 12:41:14,763:sub_1:Best number of iterations for fold 1 is: 1\n",
      "[INFO]2021-07-20 12:41:14,764:sub_1:CV OOF Score for fold 1 is 0.8506184455663011\n",
      "[INFO]2021-07-20 12:41:14,814:sub_1:fold 2 of 5\n",
      "Training until validation scores don't improve for 100 rounds\n",
      "[100]\ttraining's rmse: 0.533588\tvalid_1's rmse: 1.26525\n",
      "Early stopping, best iteration is:\n",
      "[46]\ttraining's rmse: 0.710594\tvalid_1's rmse: 1.25116\n",
      "[INFO]2021-07-20 12:41:15,015:sub_1:Best number of iterations for fold 2 is: 46\n",
      "[INFO]2021-07-20 12:41:15,016:sub_1:CV OOF Score for fold 2 is 0.10233771788458995\n",
      "[INFO]2021-07-20 12:41:15,079:sub_1:fold 3 of 5\n",
      "Training until validation scores don't improve for 100 rounds\n",
      "[100]\ttraining's rmse: 0.634695\tvalid_1's rmse: 1.00427\n",
      "Early stopping, best iteration is:\n",
      "[73]\ttraining's rmse: 0.703857\tvalid_1's rmse: 0.996466\n",
      "[INFO]2021-07-20 12:41:15,429:sub_1:Best number of iterations for fold 3 is: 73\n",
      "[INFO]2021-07-20 12:41:15,430:sub_1:CV OOF Score for fold 3 is 0.09736584763688616\n",
      "[INFO]2021-07-20 12:41:15,496:sub_1:fold 4 of 5\n",
      "Training until validation scores don't improve for 100 rounds\n",
      "[100]\ttraining's rmse: 0.658155\tvalid_1's rmse: 1.72387\n",
      "Early stopping, best iteration is:\n",
      "[60]\ttraining's rmse: 0.753738\tvalid_1's rmse: 1.70486\n",
      "[INFO]2021-07-20 12:41:15,675:sub_1:Best number of iterations for fold 4 is: 60\n",
      "[INFO]2021-07-20 12:41:15,680:sub_1:CV OOF Score for fold 4 is 0.09922019414789371\n",
      "[INFO]2021-07-20 12:41:15,737:sub_1:fold 5 of 5\n",
      "Training until validation scores don't improve for 100 rounds\n",
      "[100]\ttraining's rmse: 0.749309\tvalid_1's rmse: 1.65657\n",
      "Early stopping, best iteration is:\n",
      "[52]\ttraining's rmse: 0.871291\tvalid_1's rmse: 1.62549\n",
      "[INFO]2021-07-20 12:41:15,920:sub_1:Best number of iterations for fold 5 is: 52\n",
      "[INFO]2021-07-20 12:41:15,921:sub_1:CV OOF Score for fold 5 is 0.10748025936779888\n",
      "[INFO]2021-07-20 12:41:15,980:sub_1:Combined OOF score : 0.39228\n",
      "[INFO]2021-07-20 12:41:15,981:sub_1:Average of 5 folds OOF score 0.2514\n",
      "[INFO]2021-07-20 12:41:15,981:sub_1:std of 5 folds OOF score 0.29963\n",
      "[INFO]2021-07-20 12:41:16,059:sub_1:Training/Prediction completed!\n",
      "[INFO]2021-07-20 12:41:16,060:sub_1:Saving /opt/vssexclude/personal/kaggle/kaggle_tab_jul/oof/oof_ben_lgb_ben_0720_1239_0.25140.csv\n",
      "[INFO]2021-07-20 12:41:16,074:sub_1:Saving /opt/vssexclude/personal/kaggle/kaggle_tab_jul/fi/fi_ben_lgb_ben_0720_1239_0.25140.csv\n",
      "[INFO]2021-07-20 12:41:16,076:sub_1:Saving /opt/vssexclude/personal/kaggle/kaggle_tab_jul/fi/bf_ben_lgb_ben_0720_1239_0.25140.csv\n",
      "[INFO]2021-07-20 12:41:16,203:sub_1:fold 1 of 5\n",
      "Training until validation scores don't improve for 100 rounds\n",
      "[100]\ttraining's rmse: 167.7\tvalid_1's rmse: 220.039\n",
      "Early stopping, best iteration is:\n",
      "[1]\ttraining's rmse: 167.7\tvalid_1's rmse: 220.039\n",
      "[INFO]2021-07-20 12:41:16,325:sub_1:Best number of iterations for fold 1 is: 1\n",
      "[INFO]2021-07-20 12:41:16,338:sub_1:CV OOF Score for fold 1 is 0.8090603937661072\n",
      "[INFO]2021-07-20 12:41:16,390:sub_1:fold 2 of 5\n",
      "Training until validation scores don't improve for 100 rounds\n",
      "[100]\ttraining's rmse: 12.2873\tvalid_1's rmse: 41.3753\n",
      "Early stopping, best iteration is:\n",
      "[38]\ttraining's rmse: 17.1955\tvalid_1's rmse: 39.9978\n",
      "[INFO]2021-07-20 12:41:16,631:sub_1:Best number of iterations for fold 2 is: 38\n",
      "[INFO]2021-07-20 12:41:16,632:sub_1:CV OOF Score for fold 2 is 0.3312363553980964\n",
      "[INFO]2021-07-20 12:41:16,687:sub_1:fold 3 of 5\n",
      "Training until validation scores don't improve for 100 rounds\n",
      "[100]\ttraining's rmse: 16.2433\tvalid_1's rmse: 40.5228\n",
      "Early stopping, best iteration is:\n",
      "[53]\ttraining's rmse: 19.3558\tvalid_1's rmse: 39.7005\n",
      "[INFO]2021-07-20 12:41:16,933:sub_1:Best number of iterations for fold 3 is: 53\n",
      "[INFO]2021-07-20 12:41:16,934:sub_1:CV OOF Score for fold 3 is 0.3531100275179143\n",
      "[INFO]2021-07-20 12:41:16,991:sub_1:fold 4 of 5\n",
      "Training until validation scores don't improve for 100 rounds\n",
      "[100]\ttraining's rmse: 19.8088\tvalid_1's rmse: 147.373\n",
      "[200]\ttraining's rmse: 15.8349\tvalid_1's rmse: 146.625\n",
      "[300]\ttraining's rmse: 13.0688\tvalid_1's rmse: 145.876\n",
      "[400]\ttraining's rmse: 11.1634\tvalid_1's rmse: 145.29\n",
      "[500]\ttraining's rmse: 9.34429\tvalid_1's rmse: 144.761\n",
      "[600]\ttraining's rmse: 8.03232\tvalid_1's rmse: 144.48\n",
      "[700]\ttraining's rmse: 6.90109\tvalid_1's rmse: 144.22\n",
      "[800]\ttraining's rmse: 6.0745\tvalid_1's rmse: 143.88\n",
      "[900]\ttraining's rmse: 5.26821\tvalid_1's rmse: 143.857\n",
      "[1000]\ttraining's rmse: 4.59471\tvalid_1's rmse: 143.687\n",
      "Did not meet early stopping. Best iteration is:\n",
      "[1000]\ttraining's rmse: 4.59471\tvalid_1's rmse: 143.687\n",
      "[INFO]2021-07-20 12:41:17,848:sub_1:Best number of iterations for fold 4 is: 1000\n",
      "[INFO]2021-07-20 12:41:17,849:sub_1:CV OOF Score for fold 4 is 0.6437689558259186\n",
      "[INFO]2021-07-20 12:41:17,911:sub_1:fold 5 of 5\n",
      "Training until validation scores don't improve for 100 rounds\n",
      "[100]\ttraining's rmse: 33.6066\tvalid_1's rmse: 237.974\n",
      "[200]\ttraining's rmse: 27.0672\tvalid_1's rmse: 239.663\n",
      "Early stopping, best iteration is:\n",
      "[112]\ttraining's rmse: 32.6424\tvalid_1's rmse: 237.439\n",
      "[INFO]2021-07-20 12:41:18,151:sub_1:Best number of iterations for fold 5 is: 112\n",
      "[INFO]2021-07-20 12:41:18,152:sub_1:CV OOF Score for fold 5 is 0.6522318212447239\n",
      "[INFO]2021-07-20 12:41:18,208:sub_1:Combined OOF score : 0.59111\n",
      "[INFO]2021-07-20 12:41:18,208:sub_1:Average of 5 folds OOF score 0.55788\n",
      "[INFO]2021-07-20 12:41:18,209:sub_1:std of 5 folds OOF score 0.18583\n",
      "[INFO]2021-07-20 12:41:18,290:sub_1:Training/Prediction completed!\n",
      "[INFO]2021-07-20 12:41:18,291:sub_1:Saving /opt/vssexclude/personal/kaggle/kaggle_tab_jul/oof/oof_no_lgb_ben_0720_1239_0.55788.csv\n",
      "[INFO]2021-07-20 12:41:18,305:sub_1:Saving /opt/vssexclude/personal/kaggle/kaggle_tab_jul/fi/fi_no_lgb_ben_0720_1239_0.55788.csv\n",
      "[INFO]2021-07-20 12:41:18,308:sub_1:Saving /opt/vssexclude/personal/kaggle/kaggle_tab_jul/fi/bf_no_lgb_ben_0720_1239_0.55788.csv\n",
      "agg_oof_score: 0.41053000000000006, agg_avg_cv_scores: 0.34092000000000006\n",
      "[INFO]2021-07-20 12:41:18,448:sub_1:Saving /opt/vssexclude/personal/kaggle/kaggle_tab_jul/submissions/sub_lgb_ben_0720_1239_0.34092.csv\n"
     ]
    },
    {
     "data": {
      "image/png": "[encoded data removed]",
      "text/plain": [
       "<Figure size 1152x864 with 1 Axes>"
      ]
     },
     "metadata": {
      "needs_background": "light"
     },
     "output_type": "display_data"
    },
    {
     "data": {
      "image/png": "[encoded data removed]",
      "text/plain": [
       "<Figure size 1152x864 with 1 Axes>"
      ]
     },
     "metadata": {
      "needs_background": "light"
     },
     "output_type": "display_data"
    },
    {
     "data": {
      "image/png": "[encoded data removed]",
      "text/plain": [
       "<Figure size 1152x864 with 1 Axes>"
      ]
     },
     "metadata": {
      "needs_background": "light"
     },
     "output_type": "display_data"
    }
   ],
   "source": [
    "lgb_params = {\n",
    "                'objective' : 'regression',\n",
    "                'boosting_type' : 'gbdt',\n",
    "                'learning_rate' : 0.1,\n",
    "                'num_leaves' : 31,\n",
    "                'tree_learner' : 'serial',\n",
    "                'n_jobs' :-1,\n",
    "                'seed' : SEED,\n",
    "                'max_depth' : -1,\n",
    "                'max_bin' : 255,\n",
    "                'metric' : 'rmse',\n",
    "                'verbose' : -1\n",
    "                }\n",
    "ts_split = TimeSeriesSplit(n_splits=5, test_size=train_df.shape[0]//5, gap=0)\n",
    "\n",
    "train_Y = train_Ys[\"target_carbon_monoxide\"]\n",
    "results_dict_co = model.lgb_train_validate_on_cv(logger, \n",
    "                                               run_id=RUN_ID, \n",
    "                                               train_X=train_X,\n",
    "                                               train_Y=train_Y,\n",
    "                                               test_X=test_X,\n",
    "                                               num_class=1,\n",
    "                                               kf = ts_split,\n",
    "                                               features = predictors,\n",
    "                                               params = lgb_params,\n",
    "                                               n_estimators=1000,\n",
    "                                               early_stopping_rounds=100,\n",
    "                                               cat_features= \"auto\",\n",
    "                                               is_test=False,\n",
    "                                               verbose_eval=100,\n",
    "                                               label_name=\"co\"\n",
    "                                              )\n",
    "train_index = train_df.index\n",
    "common.save_artifacts(\n",
    "    logger,\n",
    "    is_test=False,\n",
    "    is_plot_fi=True,\n",
    "    result_dict=results_dict_co,\n",
    "    submission_df=sample_submission_df,\n",
    "    train_index=train_index,\n",
    "    model_number=MODEL_NAME,\n",
    "    run_id=RUN_ID,\n",
    "    sub_dir=constants.SUBMISSION_DIR,\n",
    "    oof_dir=constants.OOF_DIR,\n",
    "    fi_dir=constants.FI_DIR,\n",
    "    fi_fig_dir=constants.FI_FIG_DIR,\n",
    "    label_name=\"co\"\n",
    ")\n",
    "\n",
    "\n",
    "train_Y = train_Ys[\"target_benzene\"]\n",
    "results_dict_ben = model.lgb_train_validate_on_cv(logger, \n",
    "                                               run_id=RUN_ID, \n",
    "                                               train_X=train_X,\n",
    "                                               train_Y=train_Y,\n",
    "                                               test_X=test_X,\n",
    "                                               num_class=1,\n",
    "                                               kf = ts_split,\n",
    "                                               features = predictors,\n",
    "                                               params = lgb_params,\n",
    "                                               n_estimators=1000,\n",
    "                                               early_stopping_rounds=100,\n",
    "                                               cat_features= \"auto\",\n",
    "                                               is_test=False,\n",
    "                                               verbose_eval=100,\n",
    "                                               label_name=\"ben\"\n",
    "                                              )\n",
    "\n",
    "train_index = train_df.index\n",
    "common.save_artifacts(\n",
    "    logger,\n",
    "    is_test=False,\n",
    "    is_plot_fi=True,\n",
    "    result_dict=results_dict_ben,\n",
    "    submission_df=sample_submission_df,\n",
    "    train_index=train_index,\n",
    "    model_number=MODEL_NAME,\n",
    "    run_id=RUN_ID,\n",
    "    sub_dir=constants.SUBMISSION_DIR,\n",
    "    oof_dir=constants.OOF_DIR,\n",
    "    fi_dir=constants.FI_DIR,\n",
    "    fi_fig_dir=constants.FI_FIG_DIR,\n",
    "    label_name=\"ben\"\n",
    ")\n",
    "\n",
    "\n",
    "train_Y = train_Ys[\"target_nitrogen_oxides\"]\n",
    "results_dict_no = model.lgb_train_validate_on_cv(logger, \n",
    "                                               run_id=RUN_ID, \n",
    "                                               train_X=train_X,\n",
    "                                               train_Y=train_Y,\n",
    "                                               test_X=test_X,\n",
    "                                               num_class=1,\n",
    "                                               kf = ts_split,\n",
    "                                               features = predictors,\n",
    "                                               params = lgb_params,\n",
    "                                               n_estimators=1000,\n",
    "                                               early_stopping_rounds=100,\n",
    "                                               cat_features= \"auto\",\n",
    "                                               is_test=False,\n",
    "                                               verbose_eval=100,\n",
    "                                               label_name=\"no\"\n",
    "                                              )\n",
    "\n",
    "train_index = train_df.index\n",
    "common.save_artifacts(\n",
    "    logger,\n",
    "    is_test=False,\n",
    "    is_plot_fi=True,\n",
    "    result_dict=results_dict_no,\n",
    "    submission_df=sample_submission_df,\n",
    "    train_index=train_index,\n",
    "    model_number=MODEL_NAME,\n",
    "    run_id=RUN_ID,\n",
    "    sub_dir=constants.SUBMISSION_DIR,\n",
    "    oof_dir=constants.OOF_DIR,\n",
    "    fi_dir=constants.FI_DIR,\n",
    "    fi_fig_dir=constants.FI_FIG_DIR,\n",
    "    label_name=\"no\"\n",
    ")\n",
    "\n",
    "(agg_oof_score, agg_avg_cv_scores) = common.calculate_final_score(\n",
    "    RUN_ID, \n",
    "    results_dict_co,\n",
    "    results_dict_ben,\n",
    "    results_dict_no)\n",
    "\n",
    "print(f\"agg_oof_score: {agg_oof_score}, agg_avg_cv_scores: {agg_avg_cv_scores}\")\n",
    "\n",
    "common.create_submission_file(    \n",
    "    logger=logger,\n",
    "    run_id=RUN_ID,\n",
    "    model_number=MODEL_NAME,\n",
    "    sub_dir=constants.SUBMISSION_DIR,\n",
    "    score=agg_avg_cv_scores,\n",
    "    sub_df=sample_submission_df,\n",
    "    test_df=test_df,\n",
    "    results_dict_co=results_dict_co,\n",
    "    results_dict_ben=results_dict_ben,\n",
    "    results_dict_no=results_dict_no,)"
   ]
  },
  {
   "cell_type": "code",
   "execution_count": 17,
   "metadata": {},
   "outputs": [],
   "source": [
    "import numpy as np"
   ]
  },
  {
   "cell_type": "code",
   "execution_count": 21,
   "metadata": {},
   "outputs": [
    {
     "data": {
      "text/plain": [
       "target_carbon_monoxide    0\n",
       "target_benzene            0\n",
       "target_nitrogen_oxides    0\n",
       "dtype: int64"
      ]
     },
     "execution_count": 21,
     "metadata": {},
     "output_type": "execute_result"
    }
   ],
   "source": [
    "(train_Ys == 0).sum()"
   ]
  },
  {
   "cell_type": "code",
   "execution_count": null,
   "metadata": {},
   "outputs": [],
   "source": []
  }
 ],
 "metadata": {
  "kernelspec": {
   "display_name": "Python 3",
   "language": "python",
   "name": "python3"
  },
  "language_info": {
   "codemirror_mode": {
    "name": "ipython",
    "version": 3
   },
   "file_extension": ".py",
   "mimetype": "text/x-python",
   "name": "python",
   "nbconvert_exporter": "python",
   "pygments_lexer": "ipython3",
   "version": "3.8.6"
  }
 },
 "nbformat": 4,
 "nbformat_minor": 4
}
