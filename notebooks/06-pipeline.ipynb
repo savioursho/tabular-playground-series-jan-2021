{
 "cells": [
  {
   "attachments": {},
   "cell_type": "markdown",
   "metadata": {},
   "source": [
    "# Pipeline"
   ]
  },
  {
   "cell_type": "code",
   "execution_count": 1,
   "metadata": {},
   "outputs": [],
   "source": [
    "%load_ext autoreload\n",
    "%autoreload 2"
   ]
  },
  {
   "cell_type": "code",
   "execution_count": 13,
   "metadata": {},
   "outputs": [],
   "source": [
    "import matplotlib.pyplot as plt\n",
    "import numpy as np\n",
    "import pandas as pd\n",
    "import seaborn as sns\n",
    "import setting\n",
    "from sklearn import set_config\n",
    "\n",
    "from src import viz\n",
    "from src.common import util"
   ]
  },
  {
   "cell_type": "code",
   "execution_count": 3,
   "metadata": {},
   "outputs": [],
   "source": [
    "sns.set_theme(style=\"whitegrid\")"
   ]
  },
  {
   "cell_type": "code",
   "execution_count": 4,
   "metadata": {},
   "outputs": [],
   "source": [
    "df_train, df_test = util.load_data()"
   ]
  },
  {
   "cell_type": "code",
   "execution_count": 11,
   "metadata": {},
   "outputs": [],
   "source": [
    "X = df_train.drop(columns=[\"id\", \"target\"])\n",
    "y = df_train[\"target\"]"
   ]
  },
  {
   "cell_type": "code",
   "execution_count": 29,
   "metadata": {},
   "outputs": [],
   "source": [
    "from sklearn.ensemble import RandomTreesEmbedding, HistGradientBoostingRegressor\n",
    "from sklearn.pipeline import make_pipeline\n",
    "from sklearn.compose import make_column_transformer\n",
    "from sklearn.model_selection import check_cv, KFold\n",
    "from sklearn.base import clone, BaseEstimator\n",
    "\n"
   ]
  },
  {
   "cell_type": "code",
   "execution_count": 18,
   "metadata": {},
   "outputs": [],
   "source": [
    "model = HistGradientBoostingRegressor()"
   ]
  },
  {
   "cell_type": "code",
   "execution_count": 8,
   "metadata": {},
   "outputs": [
    {
     "data": {
      "text/plain": [
       "KFold(n_splits=5, random_state=None, shuffle=False)"
      ]
     },
     "execution_count": 8,
     "metadata": {},
     "output_type": "execute_result"
    }
   ],
   "source": [
    "cv = 5\n",
    "cv = check_cv(cv)\n",
    "cv"
   ]
  },
  {
   "cell_type": "code",
   "execution_count": 27,
   "metadata": {},
   "outputs": [],
   "source": [
    "def oof_predict(\n",
    "    estimator: BaseEstimator,\n",
    "    X: pd.DataFrame,\n",
    "    y: pd.Series,\n",
    "    cv=None,\n",
    "):\n",
    "    # splitter\n",
    "    splitter = check_cv(cv)\n",
    "\n",
    "    # oof予測値のデータフレームの準備\n",
    "    df_oof = pd.DataFrame()\n",
    "    df_oof[\"target\"] = y\n",
    "    df_oof[\"oof\"] = np.nan\n",
    "    df_oof[\"fold\"] = np.nan\n",
    "\n",
    "    # モデルを格納するリスト\n",
    "    models = []\n",
    "\n",
    "    # ndarrayにする\n",
    "    X_array = np.asarray(X)\n",
    "    y_array = np.asarray(y)\n",
    "\n",
    "    for num_fold, (train_index, val_index) in enumerate(splitter.split(X, y)):\n",
    "        # model clone\n",
    "        _model = clone(model)\n",
    "\n",
    "        # train val の分割\n",
    "        X_train, X_val = X_array[train_index], X_array[val_index]\n",
    "        y_train, y_val = y_array[train_index], y_array[val_index]\n",
    "\n",
    "        # fit\n",
    "        _model.fit(X_train, y_train)\n",
    "\n",
    "        # oof predict\n",
    "        pred = _model.predict(X_val)\n",
    "        df_oof.iloc[val_index, df_oof.columns.get_loc(\"oof\")] = pred\n",
    "        df_oof.iloc[val_index, df_oof.columns.get_loc(\"fold\")] = num_fold\n",
    "\n",
    "        # モデルをリストに格納\n",
    "        models.append(_model)\n",
    "\n",
    "    return df_oof, models"
   ]
  },
  {
   "cell_type": "code",
   "execution_count": 30,
   "metadata": {},
   "outputs": [],
   "source": [
    "df_oof, models = oof_predict(\n",
    "    HistGradientBoostingRegressor(),\n",
    "    X,\n",
    "    y,\n",
    "    KFold(5, shuffle=True, random_state=0)\n",
    ")"
   ]
  },
  {
   "cell_type": "code",
   "execution_count": 31,
   "metadata": {},
   "outputs": [
    {
     "data": {
      "text/html": [
       "<div>\n",
       "<style scoped>\n",
       "    .dataframe tbody tr th:only-of-type {\n",
       "        vertical-align: middle;\n",
       "    }\n",
       "\n",
       "    .dataframe tbody tr th {\n",
       "        vertical-align: top;\n",
       "    }\n",
       "\n",
       "    .dataframe thead th {\n",
       "        text-align: right;\n",
       "    }\n",
       "</style>\n",
       "<table border=\"1\" class=\"dataframe\">\n",
       "  <thead>\n",
       "    <tr style=\"text-align: right;\">\n",
       "      <th></th>\n",
       "      <th>target</th>\n",
       "      <th>oof</th>\n",
       "      <th>fold</th>\n",
       "    </tr>\n",
       "  </thead>\n",
       "  <tbody>\n",
       "    <tr>\n",
       "      <th>0</th>\n",
       "      <td>7.243043</td>\n",
       "      <td>7.853324</td>\n",
       "      <td>1.0</td>\n",
       "    </tr>\n",
       "    <tr>\n",
       "      <th>1</th>\n",
       "      <td>8.203331</td>\n",
       "      <td>7.889643</td>\n",
       "      <td>3.0</td>\n",
       "    </tr>\n",
       "    <tr>\n",
       "      <th>2</th>\n",
       "      <td>7.776091</td>\n",
       "      <td>7.567879</td>\n",
       "      <td>1.0</td>\n",
       "    </tr>\n",
       "    <tr>\n",
       "      <th>3</th>\n",
       "      <td>6.957716</td>\n",
       "      <td>7.741125</td>\n",
       "      <td>3.0</td>\n",
       "    </tr>\n",
       "    <tr>\n",
       "      <th>4</th>\n",
       "      <td>7.951046</td>\n",
       "      <td>7.865333</td>\n",
       "      <td>4.0</td>\n",
       "    </tr>\n",
       "    <tr>\n",
       "      <th>...</th>\n",
       "      <td>...</td>\n",
       "      <td>...</td>\n",
       "      <td>...</td>\n",
       "    </tr>\n",
       "    <tr>\n",
       "      <th>299995</th>\n",
       "      <td>7.385215</td>\n",
       "      <td>7.547144</td>\n",
       "      <td>2.0</td>\n",
       "    </tr>\n",
       "    <tr>\n",
       "      <th>299996</th>\n",
       "      <td>7.242617</td>\n",
       "      <td>7.922011</td>\n",
       "      <td>2.0</td>\n",
       "    </tr>\n",
       "    <tr>\n",
       "      <th>299997</th>\n",
       "      <td>9.592487</td>\n",
       "      <td>8.736977</td>\n",
       "      <td>2.0</td>\n",
       "    </tr>\n",
       "    <tr>\n",
       "      <th>299998</th>\n",
       "      <td>8.207951</td>\n",
       "      <td>8.428559</td>\n",
       "      <td>2.0</td>\n",
       "    </tr>\n",
       "    <tr>\n",
       "      <th>299999</th>\n",
       "      <td>8.890285</td>\n",
       "      <td>7.978151</td>\n",
       "      <td>3.0</td>\n",
       "    </tr>\n",
       "  </tbody>\n",
       "</table>\n",
       "<p>300000 rows × 3 columns</p>\n",
       "</div>"
      ],
      "text/plain": [
       "          target       oof  fold\n",
       "0       7.243043  7.853324   1.0\n",
       "1       8.203331  7.889643   3.0\n",
       "2       7.776091  7.567879   1.0\n",
       "3       6.957716  7.741125   3.0\n",
       "4       7.951046  7.865333   4.0\n",
       "...          ...       ...   ...\n",
       "299995  7.385215  7.547144   2.0\n",
       "299996  7.242617  7.922011   2.0\n",
       "299997  9.592487  8.736977   2.0\n",
       "299998  8.207951  8.428559   2.0\n",
       "299999  8.890285  7.978151   3.0\n",
       "\n",
       "[300000 rows x 3 columns]"
      ]
     },
     "execution_count": 31,
     "metadata": {},
     "output_type": "execute_result"
    }
   ],
   "source": [
    "df_oof"
   ]
  },
  {
   "cell_type": "code",
   "execution_count": 32,
   "metadata": {},
   "outputs": [
    {
     "data": {
      "text/plain": [
       "[HistGradientBoostingRegressor(),\n",
       " HistGradientBoostingRegressor(),\n",
       " HistGradientBoostingRegressor(),\n",
       " HistGradientBoostingRegressor(),\n",
       " HistGradientBoostingRegressor()]"
      ]
     },
     "execution_count": 32,
     "metadata": {},
     "output_type": "execute_result"
    }
   ],
   "source": [
    "models"
   ]
  },
  {
   "cell_type": "code",
   "execution_count": null,
   "metadata": {},
   "outputs": [],
   "source": []
  }
 ],
 "metadata": {
  "kernelspec": {
   "display_name": "base",
   "language": "python",
   "name": "python3"
  },
  "language_info": {
   "codemirror_mode": {
    "name": "ipython",
    "version": 3
   },
   "file_extension": ".py",
   "mimetype": "text/x-python",
   "name": "python",
   "nbconvert_exporter": "python",
   "pygments_lexer": "ipython3",
   "version": "3.7.12"
  },
  "orig_nbformat": 4,
  "vscode": {
   "interpreter": {
    "hash": "d4d1e4263499bec80672ea0156c357c1ee493ec2b1c70f0acce89fc37c4a6abe"
   }
  }
 },
 "nbformat": 4,
 "nbformat_minor": 2
}
